{
 "cells": [
  {
   "cell_type": "code",
   "execution_count": 1,
   "metadata": {},
   "outputs": [],
   "source": [
    "#Import all the dependencies\n",
    "from gensim.models.doc2vec import Doc2Vec, TaggedDocument\n",
    "from nltk.tokenize import word_tokenize"
   ]
  },
  {
   "cell_type": "code",
   "execution_count": 7,
   "metadata": {},
   "outputs": [],
   "source": [
    "data = [\"I love machine learning. Its awesome.\",\n",
    "        \"I love coding in python\",\n",
    "        \"I love building chatbots\",\n",
    "        \"they chat amagingly well\"]\n",
    "\n",
    "tagged_data = [TaggedDocument(words=data[i], tags=[str(i)]) for i, _d in enumerate(data)]"
   ]
  },
  {
   "cell_type": "code",
   "execution_count": 8,
   "metadata": {},
   "outputs": [
    {
     "name": "stdout",
     "output_type": "stream",
     "text": [
      "iteration 0\n",
      "iteration 1\n",
      "iteration 2\n",
      "iteration 3\n",
      "iteration 4\n",
      "iteration 5\n",
      "iteration 6\n",
      "iteration 7\n",
      "iteration 8\n",
      "iteration 9\n",
      "iteration 10\n",
      "iteration 11\n",
      "iteration 12\n",
      "iteration 13\n",
      "iteration 14\n",
      "iteration 15\n",
      "iteration 16\n",
      "iteration 17\n",
      "iteration 18\n",
      "iteration 19\n",
      "iteration 20\n",
      "iteration 21\n",
      "iteration 22\n",
      "iteration 23\n",
      "iteration 24\n",
      "iteration 25\n",
      "iteration 26\n",
      "iteration 27\n",
      "iteration 28\n"
     ]
    },
    {
     "name": "stderr",
     "output_type": "stream",
     "text": [
      "/Users/YangyangLi/anaconda3/lib/python3.7/site-packages/ipykernel_launcher.py:17: DeprecationWarning: Call to deprecated `iter` (Attribute will be removed in 4.0.0, use self.epochs instead).\n"
     ]
    },
    {
     "name": "stdout",
     "output_type": "stream",
     "text": [
      "iteration 29\n",
      "iteration 30\n",
      "iteration 31\n",
      "iteration 32\n",
      "iteration 33\n",
      "iteration 34\n",
      "iteration 35\n",
      "iteration 36\n",
      "iteration 37\n",
      "iteration 38\n",
      "iteration 39\n",
      "iteration 40\n",
      "iteration 41\n",
      "iteration 42\n",
      "iteration 43\n",
      "iteration 44\n",
      "iteration 45\n",
      "iteration 46\n",
      "iteration 47\n",
      "iteration 48\n",
      "iteration 49\n",
      "iteration 50\n",
      "iteration 51\n",
      "iteration 52\n",
      "iteration 53\n",
      "iteration 54\n",
      "iteration 55\n",
      "iteration 56\n",
      "iteration 57\n",
      "iteration 58\n",
      "iteration 59\n",
      "iteration 60\n",
      "iteration 61\n",
      "iteration 62\n",
      "iteration 63\n",
      "iteration 64\n",
      "iteration 65\n",
      "iteration 66\n",
      "iteration 67\n",
      "iteration 68\n",
      "iteration 69\n",
      "iteration 70\n",
      "iteration 71\n",
      "iteration 72\n",
      "iteration 73\n",
      "iteration 74\n",
      "iteration 75\n",
      "iteration 76\n",
      "iteration 77\n",
      "iteration 78\n",
      "iteration 79\n",
      "iteration 80\n",
      "iteration 81\n",
      "iteration 82\n",
      "iteration 83\n",
      "iteration 84\n",
      "iteration 85\n",
      "iteration 86\n",
      "iteration 87\n",
      "iteration 88\n",
      "iteration 89\n",
      "iteration 90\n",
      "iteration 91\n",
      "iteration 92\n",
      "iteration 93\n",
      "iteration 94\n",
      "iteration 95\n",
      "iteration 96\n",
      "iteration 97\n",
      "iteration 98\n",
      "iteration 99\n",
      "Model Saved\n"
     ]
    }
   ],
   "source": [
    "max_epochs = 100\n",
    "vec_size = 20\n",
    "alpha = 0.025\n",
    "\n",
    "model = Doc2Vec(size=vec_size,\n",
    "                alpha=alpha, \n",
    "                min_alpha=0.00025,\n",
    "                min_count=1,\n",
    "                dm =1)\n",
    "  \n",
    "model.build_vocab(tagged_data)\n",
    "\n",
    "for epoch in range(max_epochs):\n",
    "    print('iteration {0}'.format(epoch))\n",
    "    model.train(tagged_data,\n",
    "                total_examples=model.corpus_count,\n",
    "                epochs=model.iter)\n",
    "    # decrease the learning rate\n",
    "    model.alpha -= 0.0002\n",
    "    # fix the learning rate, no decay\n",
    "    model.min_alpha = model.alpha\n",
    "\n",
    "model.save(\"d2v.model\")\n",
    "print(\"Model Saved\")"
   ]
  },
  {
   "cell_type": "code",
   "execution_count": 10,
   "metadata": {},
   "outputs": [],
   "source": [
    "from gensim.models.doc2vec import Doc2Vec\n",
    "\n",
    "model= Doc2Vec.load(\"d2v.model\")\n",
    "#to find the vector of a document which is not in training data\n",
    "# test_data = word_tokenize(\"I love chatbots\".lower())\n",
    "# v1 = model.infer_vector(test_data)\n",
    "# print(\"V1_infer\", v1)\n",
    "\n",
    "# # to find most similar doc using tags\n",
    "# similar_doc = model.docvecs.most_similar('1')\n",
    "# print(similar_doc)\n",
    "\n",
    "\n",
    "# # to find vector of doc in training data using tags or in other words, printing the vector of document at index 1 in training data\n",
    "# print(model.docvecs['1'])"
   ]
  },
  {
   "cell_type": "code",
   "execution_count": 11,
   "metadata": {},
   "outputs": [
    {
     "name": "stdout",
     "output_type": "stream",
     "text": [
      "[-0.18521918  0.02711242 -0.51129663 -0.6807371   0.8068588   0.36591318\n",
      " -0.6509174   0.21271849 -0.54161483  0.3540736  -0.2083806   0.08332247\n",
      "  0.2923837  -0.3708018   1.134047   -0.04752523 -1.0602742   0.0187851\n",
      "  0.14253321  1.0881811 ]\n",
      "[-0.16806817  0.05847938 -0.68829566 -0.6187944   0.9519878   0.2513655\n",
      " -0.5056485  -0.11888994 -0.19235976  0.1348293   0.1460406   0.07994505\n",
      "  0.33649942 -0.19658475  0.7392392  -0.22108915 -0.9661209   0.17424352\n",
      " -0.25559816  0.86297184]\n",
      "[-0.23356946  0.00506744 -0.7559838  -0.5755828   1.0991393   0.17233245\n",
      " -0.7460018  -0.14867054 -0.17582296  0.15162413  0.14250901  0.04066914\n",
      "  0.26507324 -0.25573093  0.9409027  -0.24492231 -1.1753168   0.11258369\n",
      " -0.26140404  0.8950762 ]\n"
     ]
    }
   ],
   "source": [
    "# embedding of the first sentence\n",
    "print(model.docvecs[0])\n",
    "\n",
    "# embedding of the second sentence\n",
    "print(model.docvecs[1])\n",
    "\n",
    "# embedding of the third sentence\n",
    "print(model.docvecs[2])"
   ]
  },
  {
   "cell_type": "code",
   "execution_count": 12,
   "metadata": {},
   "outputs": [
    {
     "data": {
      "text/plain": [
       "array([[-0.18521918,  0.02711242, -0.51129663, -0.6807371 ,  0.8068588 ,\n",
       "         0.36591318, -0.6509174 ,  0.21271849, -0.54161483,  0.3540736 ,\n",
       "        -0.2083806 ,  0.08332247,  0.2923837 , -0.3708018 ,  1.134047  ,\n",
       "        -0.04752523, -1.0602742 ,  0.0187851 ,  0.14253321,  1.0881811 ],\n",
       "       [-0.16806817,  0.05847938, -0.68829566, -0.6187944 ,  0.9519878 ,\n",
       "         0.2513655 , -0.5056485 , -0.11888994, -0.19235976,  0.1348293 ,\n",
       "         0.1460406 ,  0.07994505,  0.33649942, -0.19658475,  0.7392392 ,\n",
       "        -0.22108915, -0.9661209 ,  0.17424352, -0.25559816,  0.86297184],\n",
       "       [-0.23356946,  0.00506744, -0.7559838 , -0.5755828 ,  1.0991393 ,\n",
       "         0.17233245, -0.7460018 , -0.14867054, -0.17582296,  0.15162413,\n",
       "         0.14250901,  0.04066914,  0.26507324, -0.25573093,  0.9409027 ,\n",
       "        -0.24492231, -1.1753168 ,  0.11258369, -0.26140404,  0.8950762 ],\n",
       "       [-0.28840128,  0.1989009 , -0.63655055, -0.47712195,  0.5320445 ,\n",
       "         0.30336314, -0.5261108 ,  0.02539546, -0.43188795,  0.30724642,\n",
       "        -0.19263043, -0.04706997,  0.1371175 , -0.40777555,  0.87287086,\n",
       "         0.08677441, -0.7101914 ,  0.20287833, -0.03297671,  0.8179936 ]],\n",
       "      dtype=float32)"
      ]
     },
     "execution_count": 12,
     "metadata": {},
     "output_type": "execute_result"
    }
   ],
   "source": [
    "# Convert the vectors to numpy array for training logistic regression model\n",
    "import numpy as np\n",
    "X = [list(model.docvecs[i]) for i in range(len(data))]\n",
    "X = np.asarray(X)\n",
    "X"
   ]
  },
  {
   "cell_type": "code",
   "execution_count": null,
   "metadata": {},
   "outputs": [],
   "source": []
  }
 ],
 "metadata": {
  "kernelspec": {
   "display_name": "Python 3",
   "language": "python",
   "name": "python3"
  },
  "language_info": {
   "codemirror_mode": {
    "name": "ipython",
    "version": 3
   },
   "file_extension": ".py",
   "mimetype": "text/x-python",
   "name": "python",
   "nbconvert_exporter": "python",
   "pygments_lexer": "ipython3",
   "version": "3.7.3"
  }
 },
 "nbformat": 4,
 "nbformat_minor": 2
}
